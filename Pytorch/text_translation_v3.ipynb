{
 "cells": [
  {
   "cell_type": "markdown",
   "metadata": {},
   "source": [
    "### Text Translation using mBART-50"
   ]
  },
  {
   "cell_type": "code",
   "execution_count": 1,
   "metadata": {},
   "outputs": [],
   "source": [
    "import torch\n",
    "from transformers import MBartForConditionalGeneration, MBart50TokenizerFast\n",
    "from typing import List\n",
    "from langdetect import detect\n",
    "\n",
    "class MBart50Translator:\n",
    "    def __init__(self, model_name: str = \"facebook/mbart-large-50-many-to-many-mmt\"):\n",
    "        self.device = torch.device(\"cpu\")\n",
    "        self.tokenizer = MBart50TokenizerFast.from_pretrained(model_name)\n",
    "        self.model = MBartForConditionalGeneration.from_pretrained(model_name).to(self.device)\n",
    "        self.lang_code_map = {\n",
    "            'en': 'en_XX', 'fr': 'fr_XX', 'es': 'es_XX', 'de': 'de_DE', 'it': 'it_IT', \n",
    "            'pt': 'pt_XX', 'nl': 'nl_XX', 'ru': 'ru_RU', 'zh': 'zh_CN', 'ja': 'ja_XX', \n",
    "            'ko': 'ko_KR', 'ar': 'ar_AR', 'hi': 'hi_IN', 'tr': 'tr_TR', 'vi': 'vi_VN',\n",
    "            'th': 'th_TH', 'pl': 'pl_PL', 'uk': 'uk_UA', 'fa': 'fa_IR', 'ro': 'ro_RO',\n",
    "            # Add more mappings as needed\n",
    "        }\n",
    "\n",
    "    def detect_language(self, text: str) -> str:\n",
    "        try:\n",
    "            lang_code = detect(text)\n",
    "            return self.lang_code_map.get(lang_code, 'en_XX')  # Default to English if not found\n",
    "        except:\n",
    "            return 'en_XX'  # Default to English if detection fails\n",
    "\n",
    "    def translate(self, text: str, tgt_lang: str, src_lang: str = None) -> str:\n",
    "        if src_lang is None:\n",
    "            src_lang = self.detect_language(text)\n",
    "        \n",
    "        self.tokenizer.src_lang = src_lang\n",
    "        encoded = self.tokenizer(text, return_tensors=\"pt\").to(self.device)\n",
    "        \n",
    "        generated_tokens = self.model.generate(\n",
    "            **encoded,\n",
    "            forced_bos_token_id=self.tokenizer.lang_code_to_id[tgt_lang],\n",
    "            max_length=128\n",
    "        )\n",
    "        \n",
    "        return self.tokenizer.batch_decode(generated_tokens, skip_special_tokens=True)[0]\n",
    "\n",
    "    def translate_batch(self, texts: List[str], tgt_lang: str, src_lang: str = None) -> List[str]:\n",
    "        if src_lang is None:\n",
    "            src_langs = [self.detect_language(text) for text in texts]\n",
    "        else:\n",
    "            src_langs = [src_lang] * len(texts)\n",
    "        \n",
    "        translations = []\n",
    "        for text, src_lang in zip(texts, src_langs):\n",
    "            self.tokenizer.src_lang = src_lang\n",
    "            encoded = self.tokenizer(text, return_tensors=\"pt\").to(self.device)\n",
    "            \n",
    "            generated_tokens = self.model.generate(\n",
    "                **encoded,\n",
    "                forced_bos_token_id=self.tokenizer.lang_code_to_id[tgt_lang],\n",
    "                max_length=128\n",
    "            )\n",
    "            \n",
    "            translations.append(self.tokenizer.batch_decode(generated_tokens, skip_special_tokens=True)[0])\n",
    "        \n",
    "        return translations\n",
    "\n",
    "# Example usage\n",
    "# if __name__ == \"__main__\":\n",
    "#     translator = MBart50Translator()\n",
    "\n",
    "#     # Single translation with auto-detection\n",
    "#     text = \"Hello, how are you?\"\n",
    "#     tgt_lang = \"fr_XX\"  # French\n",
    "#     translation = translator.translate(text, tgt_lang)\n",
    "#     print(f\"Original: {text}\")\n",
    "#     print(f\"Translation: {translation}\")\n",
    "\n",
    "#     # Batch translation with auto-detection\n",
    "#     texts = [\"Hello, how are you?\", \"Bonjour, comment allez-vous?\", \"Hola, ¿cómo estás?\"]\n",
    "#     translations = translator.translate_batch(texts, tgt_lang)\n",
    "#     for original, translation in zip(texts, translations):\n",
    "#         print(f\"Original: {original}\")\n",
    "#         print(f\"Translation: {translation}\")\n",
    "#         print()"
   ]
  },
  {
   "cell_type": "code",
   "execution_count": null,
   "metadata": {},
   "outputs": [],
   "source": []
  },
  {
   "cell_type": "code",
   "execution_count": null,
   "metadata": {},
   "outputs": [],
   "source": []
  },
  {
   "cell_type": "code",
   "execution_count": null,
   "metadata": {},
   "outputs": [],
   "source": []
  },
  {
   "cell_type": "code",
   "execution_count": null,
   "metadata": {},
   "outputs": [],
   "source": []
  },
  {
   "cell_type": "code",
   "execution_count": null,
   "metadata": {},
   "outputs": [],
   "source": []
  }
 ],
 "metadata": {
  "kernelspec": {
   "display_name": ".venv",
   "language": "python",
   "name": "python3"
  },
  "language_info": {
   "codemirror_mode": {
    "name": "ipython",
    "version": 3
   },
   "file_extension": ".py",
   "mimetype": "text/x-python",
   "name": "python",
   "nbconvert_exporter": "python",
   "pygments_lexer": "ipython3",
   "version": "3.10.10"
  }
 },
 "nbformat": 4,
 "nbformat_minor": 2
}
